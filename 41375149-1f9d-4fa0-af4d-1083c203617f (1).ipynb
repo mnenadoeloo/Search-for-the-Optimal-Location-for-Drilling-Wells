{
 "cells": [
  {
   "cell_type": "markdown",
   "metadata": {},
   "source": [
    "# Выбор локации для скважины"
   ]
  },
  {
   "cell_type": "markdown",
   "metadata": {},
   "source": [
    "Допустим, вы работаете в добывающей компании «ГлавРосГосНефть». Нужно решить, где бурить новую скважину.\n",
    "\n",
    "Вам предоставлены пробы нефти в трёх регионах: в каждом 10 000 месторождений, где измерили качество нефти и объём её запасов. Постройте модель машинного обучения, которая поможет определить регион, где добыча принесёт наибольшую прибыль. Проанализируйте возможную прибыль и риски техникой *Bootstrap.*\n",
    "\n",
    "Шаги для выбора локации:\n",
    "\n",
    "- В избранном регионе ищут месторождения, для каждого определяют значения признаков;\n",
    "- Строят модель и оценивают объём запасов;\n",
    "- Выбирают месторождения с самым высокими оценками значений. Количество месторождений зависит от бюджета компании и стоимости разработки одной скважины;\n",
    "- Прибыль равна суммарной прибыли отобранных месторождений."
   ]
  },
  {
   "cell_type": "markdown",
   "metadata": {},
   "source": [
    "## Загрузка и подготовка данных"
   ]
  },
  {
   "cell_type": "code",
   "execution_count": 1,
   "metadata": {},
   "outputs": [],
   "source": [
    "import pandas as pd\n",
    "import numpy as np\n",
    "from sklearn.model_selection import train_test_split\n",
    "from sklearn.linear_model import LinearRegression\n",
    "from sklearn.metrics import mean_squared_error\n",
    "import warnings\n",
    "warnings.filterwarnings(\"ignore\")\n",
    "from scipy import stats"
   ]
  },
  {
   "cell_type": "code",
   "execution_count": 3,
   "metadata": {},
   "outputs": [],
   "source": [
    "region_one = pd.read_csv('/datasets/geo_data_0.csv')\n",
    "region_two = pd.read_csv('/datasets/geo_data_1.csv')\n",
    "region_three = pd.read_csv('/datasets/geo_data_2.csv')"
   ]
  },
  {
   "cell_type": "code",
   "execution_count": 5,
   "metadata": {},
   "outputs": [
    {
     "data": {
      "text/html": [
       "<div>\n",
       "<style scoped>\n",
       "    .dataframe tbody tr th:only-of-type {\n",
       "        vertical-align: middle;\n",
       "    }\n",
       "\n",
       "    .dataframe tbody tr th {\n",
       "        vertical-align: top;\n",
       "    }\n",
       "\n",
       "    .dataframe thead th {\n",
       "        text-align: right;\n",
       "    }\n",
       "</style>\n",
       "<table border=\"1\" class=\"dataframe\">\n",
       "  <thead>\n",
       "    <tr style=\"text-align: right;\">\n",
       "      <th></th>\n",
       "      <th>id</th>\n",
       "      <th>f0</th>\n",
       "      <th>f1</th>\n",
       "      <th>f2</th>\n",
       "      <th>product</th>\n",
       "    </tr>\n",
       "  </thead>\n",
       "  <tbody>\n",
       "    <tr>\n",
       "      <th>0</th>\n",
       "      <td>txEyH</td>\n",
       "      <td>0.705745</td>\n",
       "      <td>-0.497823</td>\n",
       "      <td>1.221170</td>\n",
       "      <td>105.280062</td>\n",
       "    </tr>\n",
       "    <tr>\n",
       "      <th>1</th>\n",
       "      <td>2acmU</td>\n",
       "      <td>1.334711</td>\n",
       "      <td>-0.340164</td>\n",
       "      <td>4.365080</td>\n",
       "      <td>73.037750</td>\n",
       "    </tr>\n",
       "    <tr>\n",
       "      <th>2</th>\n",
       "      <td>409Wp</td>\n",
       "      <td>1.022732</td>\n",
       "      <td>0.151990</td>\n",
       "      <td>1.419926</td>\n",
       "      <td>85.265647</td>\n",
       "    </tr>\n",
       "    <tr>\n",
       "      <th>3</th>\n",
       "      <td>iJLyR</td>\n",
       "      <td>-0.032172</td>\n",
       "      <td>0.139033</td>\n",
       "      <td>2.978566</td>\n",
       "      <td>168.620776</td>\n",
       "    </tr>\n",
       "    <tr>\n",
       "      <th>4</th>\n",
       "      <td>Xdl7t</td>\n",
       "      <td>1.988431</td>\n",
       "      <td>0.155413</td>\n",
       "      <td>4.751769</td>\n",
       "      <td>154.036647</td>\n",
       "    </tr>\n",
       "  </tbody>\n",
       "</table>\n",
       "</div>"
      ],
      "text/plain": [
       "      id        f0        f1        f2     product\n",
       "0  txEyH  0.705745 -0.497823  1.221170  105.280062\n",
       "1  2acmU  1.334711 -0.340164  4.365080   73.037750\n",
       "2  409Wp  1.022732  0.151990  1.419926   85.265647\n",
       "3  iJLyR -0.032172  0.139033  2.978566  168.620776\n",
       "4  Xdl7t  1.988431  0.155413  4.751769  154.036647"
      ]
     },
     "execution_count": 5,
     "metadata": {},
     "output_type": "execute_result"
    }
   ],
   "source": [
    "region_one.head()"
   ]
  },
  {
   "cell_type": "code",
   "execution_count": 18,
   "metadata": {},
   "outputs": [],
   "source": [
    "def information(region):\n",
    "    display('Первые пять строк:')\n",
    "    display(region.head())\n",
    "    display('-------------------------------------------------------------------------------------------------------------')\n",
    "    display('Общая информация:') \n",
    "    display(region.info())\n",
    "    display('-------------------------------------------------------------------------------------------------------------')\n",
    "    display('Описание:') \n",
    "    display(region.describe())\n",
    "    display('-------------------------------------------------------------------------------------------------------------')\n",
    "    display('Три случайные строки:') \n",
    "    display(region.sample(n=3))\n",
    "    display('-------------------------------------------------------------------------------------------------------------')\n",
    "    display('Количество дубликатов:') \n",
    "    display(region.duplicated().sum())"
   ]
  },
  {
   "cell_type": "markdown",
   "metadata": {},
   "source": [
    "### Первое месторождение:"
   ]
  },
  {
   "cell_type": "code",
   "execution_count": 19,
   "metadata": {},
   "outputs": [
    {
     "data": {
      "text/plain": [
       "'Первые пять строк:'"
      ]
     },
     "metadata": {},
     "output_type": "display_data"
    },
    {
     "data": {
      "text/html": [
       "<div>\n",
       "<style scoped>\n",
       "    .dataframe tbody tr th:only-of-type {\n",
       "        vertical-align: middle;\n",
       "    }\n",
       "\n",
       "    .dataframe tbody tr th {\n",
       "        vertical-align: top;\n",
       "    }\n",
       "\n",
       "    .dataframe thead th {\n",
       "        text-align: right;\n",
       "    }\n",
       "</style>\n",
       "<table border=\"1\" class=\"dataframe\">\n",
       "  <thead>\n",
       "    <tr style=\"text-align: right;\">\n",
       "      <th></th>\n",
       "      <th>id</th>\n",
       "      <th>f0</th>\n",
       "      <th>f1</th>\n",
       "      <th>f2</th>\n",
       "      <th>product</th>\n",
       "    </tr>\n",
       "  </thead>\n",
       "  <tbody>\n",
       "    <tr>\n",
       "      <th>0</th>\n",
       "      <td>txEyH</td>\n",
       "      <td>0.705745</td>\n",
       "      <td>-0.497823</td>\n",
       "      <td>1.221170</td>\n",
       "      <td>105.280062</td>\n",
       "    </tr>\n",
       "    <tr>\n",
       "      <th>1</th>\n",
       "      <td>2acmU</td>\n",
       "      <td>1.334711</td>\n",
       "      <td>-0.340164</td>\n",
       "      <td>4.365080</td>\n",
       "      <td>73.037750</td>\n",
       "    </tr>\n",
       "    <tr>\n",
       "      <th>2</th>\n",
       "      <td>409Wp</td>\n",
       "      <td>1.022732</td>\n",
       "      <td>0.151990</td>\n",
       "      <td>1.419926</td>\n",
       "      <td>85.265647</td>\n",
       "    </tr>\n",
       "    <tr>\n",
       "      <th>3</th>\n",
       "      <td>iJLyR</td>\n",
       "      <td>-0.032172</td>\n",
       "      <td>0.139033</td>\n",
       "      <td>2.978566</td>\n",
       "      <td>168.620776</td>\n",
       "    </tr>\n",
       "    <tr>\n",
       "      <th>4</th>\n",
       "      <td>Xdl7t</td>\n",
       "      <td>1.988431</td>\n",
       "      <td>0.155413</td>\n",
       "      <td>4.751769</td>\n",
       "      <td>154.036647</td>\n",
       "    </tr>\n",
       "  </tbody>\n",
       "</table>\n",
       "</div>"
      ],
      "text/plain": [
       "      id        f0        f1        f2     product\n",
       "0  txEyH  0.705745 -0.497823  1.221170  105.280062\n",
       "1  2acmU  1.334711 -0.340164  4.365080   73.037750\n",
       "2  409Wp  1.022732  0.151990  1.419926   85.265647\n",
       "3  iJLyR -0.032172  0.139033  2.978566  168.620776\n",
       "4  Xdl7t  1.988431  0.155413  4.751769  154.036647"
      ]
     },
     "metadata": {},
     "output_type": "display_data"
    },
    {
     "data": {
      "text/plain": [
       "'-------------------------------------------------------------------------------------------------------------'"
      ]
     },
     "metadata": {},
     "output_type": "display_data"
    },
    {
     "data": {
      "text/plain": [
       "'Общая информация:'"
      ]
     },
     "metadata": {},
     "output_type": "display_data"
    },
    {
     "name": "stdout",
     "output_type": "stream",
     "text": [
      "<class 'pandas.core.frame.DataFrame'>\n",
      "RangeIndex: 100000 entries, 0 to 99999\n",
      "Data columns (total 5 columns):\n",
      " #   Column   Non-Null Count   Dtype  \n",
      "---  ------   --------------   -----  \n",
      " 0   id       100000 non-null  object \n",
      " 1   f0       100000 non-null  float64\n",
      " 2   f1       100000 non-null  float64\n",
      " 3   f2       100000 non-null  float64\n",
      " 4   product  100000 non-null  float64\n",
      "dtypes: float64(4), object(1)\n",
      "memory usage: 3.8+ MB\n"
     ]
    },
    {
     "data": {
      "text/plain": [
       "None"
      ]
     },
     "metadata": {},
     "output_type": "display_data"
    },
    {
     "data": {
      "text/plain": [
       "'-------------------------------------------------------------------------------------------------------------'"
      ]
     },
     "metadata": {},
     "output_type": "display_data"
    },
    {
     "data": {
      "text/plain": [
       "'Описание:'"
      ]
     },
     "metadata": {},
     "output_type": "display_data"
    },
    {
     "data": {
      "text/html": [
       "<div>\n",
       "<style scoped>\n",
       "    .dataframe tbody tr th:only-of-type {\n",
       "        vertical-align: middle;\n",
       "    }\n",
       "\n",
       "    .dataframe tbody tr th {\n",
       "        vertical-align: top;\n",
       "    }\n",
       "\n",
       "    .dataframe thead th {\n",
       "        text-align: right;\n",
       "    }\n",
       "</style>\n",
       "<table border=\"1\" class=\"dataframe\">\n",
       "  <thead>\n",
       "    <tr style=\"text-align: right;\">\n",
       "      <th></th>\n",
       "      <th>f0</th>\n",
       "      <th>f1</th>\n",
       "      <th>f2</th>\n",
       "      <th>product</th>\n",
       "    </tr>\n",
       "  </thead>\n",
       "  <tbody>\n",
       "    <tr>\n",
       "      <th>count</th>\n",
       "      <td>100000.000000</td>\n",
       "      <td>100000.000000</td>\n",
       "      <td>100000.000000</td>\n",
       "      <td>100000.000000</td>\n",
       "    </tr>\n",
       "    <tr>\n",
       "      <th>mean</th>\n",
       "      <td>0.500419</td>\n",
       "      <td>0.250143</td>\n",
       "      <td>2.502647</td>\n",
       "      <td>92.500000</td>\n",
       "    </tr>\n",
       "    <tr>\n",
       "      <th>std</th>\n",
       "      <td>0.871832</td>\n",
       "      <td>0.504433</td>\n",
       "      <td>3.248248</td>\n",
       "      <td>44.288691</td>\n",
       "    </tr>\n",
       "    <tr>\n",
       "      <th>min</th>\n",
       "      <td>-1.408605</td>\n",
       "      <td>-0.848218</td>\n",
       "      <td>-12.088328</td>\n",
       "      <td>0.000000</td>\n",
       "    </tr>\n",
       "    <tr>\n",
       "      <th>25%</th>\n",
       "      <td>-0.072580</td>\n",
       "      <td>-0.200881</td>\n",
       "      <td>0.287748</td>\n",
       "      <td>56.497507</td>\n",
       "    </tr>\n",
       "    <tr>\n",
       "      <th>50%</th>\n",
       "      <td>0.502360</td>\n",
       "      <td>0.250252</td>\n",
       "      <td>2.515969</td>\n",
       "      <td>91.849972</td>\n",
       "    </tr>\n",
       "    <tr>\n",
       "      <th>75%</th>\n",
       "      <td>1.073581</td>\n",
       "      <td>0.700646</td>\n",
       "      <td>4.715088</td>\n",
       "      <td>128.564089</td>\n",
       "    </tr>\n",
       "    <tr>\n",
       "      <th>max</th>\n",
       "      <td>2.362331</td>\n",
       "      <td>1.343769</td>\n",
       "      <td>16.003790</td>\n",
       "      <td>185.364347</td>\n",
       "    </tr>\n",
       "  </tbody>\n",
       "</table>\n",
       "</div>"
      ],
      "text/plain": [
       "                  f0             f1             f2        product\n",
       "count  100000.000000  100000.000000  100000.000000  100000.000000\n",
       "mean        0.500419       0.250143       2.502647      92.500000\n",
       "std         0.871832       0.504433       3.248248      44.288691\n",
       "min        -1.408605      -0.848218     -12.088328       0.000000\n",
       "25%        -0.072580      -0.200881       0.287748      56.497507\n",
       "50%         0.502360       0.250252       2.515969      91.849972\n",
       "75%         1.073581       0.700646       4.715088     128.564089\n",
       "max         2.362331       1.343769      16.003790     185.364347"
      ]
     },
     "metadata": {},
     "output_type": "display_data"
    },
    {
     "data": {
      "text/plain": [
       "'-------------------------------------------------------------------------------------------------------------'"
      ]
     },
     "metadata": {},
     "output_type": "display_data"
    },
    {
     "data": {
      "text/plain": [
       "'Три случайные строки:'"
      ]
     },
     "metadata": {},
     "output_type": "display_data"
    },
    {
     "data": {
      "text/html": [
       "<div>\n",
       "<style scoped>\n",
       "    .dataframe tbody tr th:only-of-type {\n",
       "        vertical-align: middle;\n",
       "    }\n",
       "\n",
       "    .dataframe tbody tr th {\n",
       "        vertical-align: top;\n",
       "    }\n",
       "\n",
       "    .dataframe thead th {\n",
       "        text-align: right;\n",
       "    }\n",
       "</style>\n",
       "<table border=\"1\" class=\"dataframe\">\n",
       "  <thead>\n",
       "    <tr style=\"text-align: right;\">\n",
       "      <th></th>\n",
       "      <th>id</th>\n",
       "      <th>f0</th>\n",
       "      <th>f1</th>\n",
       "      <th>f2</th>\n",
       "      <th>product</th>\n",
       "    </tr>\n",
       "  </thead>\n",
       "  <tbody>\n",
       "    <tr>\n",
       "      <th>11938</th>\n",
       "      <td>j9ZbT</td>\n",
       "      <td>1.133416</td>\n",
       "      <td>-0.552499</td>\n",
       "      <td>2.910680</td>\n",
       "      <td>100.181451</td>\n",
       "    </tr>\n",
       "    <tr>\n",
       "      <th>49441</th>\n",
       "      <td>wUOLl</td>\n",
       "      <td>-0.919966</td>\n",
       "      <td>0.575044</td>\n",
       "      <td>3.984625</td>\n",
       "      <td>98.913478</td>\n",
       "    </tr>\n",
       "    <tr>\n",
       "      <th>21044</th>\n",
       "      <td>sZCfH</td>\n",
       "      <td>0.903704</td>\n",
       "      <td>0.536996</td>\n",
       "      <td>4.773943</td>\n",
       "      <td>107.672935</td>\n",
       "    </tr>\n",
       "  </tbody>\n",
       "</table>\n",
       "</div>"
      ],
      "text/plain": [
       "          id        f0        f1        f2     product\n",
       "11938  j9ZbT  1.133416 -0.552499  2.910680  100.181451\n",
       "49441  wUOLl -0.919966  0.575044  3.984625   98.913478\n",
       "21044  sZCfH  0.903704  0.536996  4.773943  107.672935"
      ]
     },
     "metadata": {},
     "output_type": "display_data"
    },
    {
     "data": {
      "text/plain": [
       "'-------------------------------------------------------------------------------------------------------------'"
      ]
     },
     "metadata": {},
     "output_type": "display_data"
    },
    {
     "data": {
      "text/plain": [
       "'Количество дубликатов:'"
      ]
     },
     "metadata": {},
     "output_type": "display_data"
    },
    {
     "data": {
      "text/plain": [
       "0"
      ]
     },
     "metadata": {},
     "output_type": "display_data"
    }
   ],
   "source": [
    "information(region_one)"
   ]
  },
  {
   "cell_type": "markdown",
   "metadata": {},
   "source": [
    "### Второе месторождение"
   ]
  },
  {
   "cell_type": "code",
   "execution_count": 20,
   "metadata": {},
   "outputs": [
    {
     "data": {
      "text/plain": [
       "'Первые пять строк:'"
      ]
     },
     "metadata": {},
     "output_type": "display_data"
    },
    {
     "data": {
      "text/html": [
       "<div>\n",
       "<style scoped>\n",
       "    .dataframe tbody tr th:only-of-type {\n",
       "        vertical-align: middle;\n",
       "    }\n",
       "\n",
       "    .dataframe tbody tr th {\n",
       "        vertical-align: top;\n",
       "    }\n",
       "\n",
       "    .dataframe thead th {\n",
       "        text-align: right;\n",
       "    }\n",
       "</style>\n",
       "<table border=\"1\" class=\"dataframe\">\n",
       "  <thead>\n",
       "    <tr style=\"text-align: right;\">\n",
       "      <th></th>\n",
       "      <th>id</th>\n",
       "      <th>f0</th>\n",
       "      <th>f1</th>\n",
       "      <th>f2</th>\n",
       "      <th>product</th>\n",
       "    </tr>\n",
       "  </thead>\n",
       "  <tbody>\n",
       "    <tr>\n",
       "      <th>0</th>\n",
       "      <td>kBEdx</td>\n",
       "      <td>-15.001348</td>\n",
       "      <td>-8.276000</td>\n",
       "      <td>-0.005876</td>\n",
       "      <td>3.179103</td>\n",
       "    </tr>\n",
       "    <tr>\n",
       "      <th>1</th>\n",
       "      <td>62mP7</td>\n",
       "      <td>14.272088</td>\n",
       "      <td>-3.475083</td>\n",
       "      <td>0.999183</td>\n",
       "      <td>26.953261</td>\n",
       "    </tr>\n",
       "    <tr>\n",
       "      <th>2</th>\n",
       "      <td>vyE1P</td>\n",
       "      <td>6.263187</td>\n",
       "      <td>-5.948386</td>\n",
       "      <td>5.001160</td>\n",
       "      <td>134.766305</td>\n",
       "    </tr>\n",
       "    <tr>\n",
       "      <th>3</th>\n",
       "      <td>KcrkZ</td>\n",
       "      <td>-13.081196</td>\n",
       "      <td>-11.506057</td>\n",
       "      <td>4.999415</td>\n",
       "      <td>137.945408</td>\n",
       "    </tr>\n",
       "    <tr>\n",
       "      <th>4</th>\n",
       "      <td>AHL4O</td>\n",
       "      <td>12.702195</td>\n",
       "      <td>-8.147433</td>\n",
       "      <td>5.004363</td>\n",
       "      <td>134.766305</td>\n",
       "    </tr>\n",
       "  </tbody>\n",
       "</table>\n",
       "</div>"
      ],
      "text/plain": [
       "      id         f0         f1        f2     product\n",
       "0  kBEdx -15.001348  -8.276000 -0.005876    3.179103\n",
       "1  62mP7  14.272088  -3.475083  0.999183   26.953261\n",
       "2  vyE1P   6.263187  -5.948386  5.001160  134.766305\n",
       "3  KcrkZ -13.081196 -11.506057  4.999415  137.945408\n",
       "4  AHL4O  12.702195  -8.147433  5.004363  134.766305"
      ]
     },
     "metadata": {},
     "output_type": "display_data"
    },
    {
     "data": {
      "text/plain": [
       "'-------------------------------------------------------------------------------------------------------------'"
      ]
     },
     "metadata": {},
     "output_type": "display_data"
    },
    {
     "data": {
      "text/plain": [
       "'Общая информация:'"
      ]
     },
     "metadata": {},
     "output_type": "display_data"
    },
    {
     "name": "stdout",
     "output_type": "stream",
     "text": [
      "<class 'pandas.core.frame.DataFrame'>\n",
      "RangeIndex: 100000 entries, 0 to 99999\n",
      "Data columns (total 5 columns):\n",
      " #   Column   Non-Null Count   Dtype  \n",
      "---  ------   --------------   -----  \n",
      " 0   id       100000 non-null  object \n",
      " 1   f0       100000 non-null  float64\n",
      " 2   f1       100000 non-null  float64\n",
      " 3   f2       100000 non-null  float64\n",
      " 4   product  100000 non-null  float64\n",
      "dtypes: float64(4), object(1)\n",
      "memory usage: 3.8+ MB\n"
     ]
    },
    {
     "data": {
      "text/plain": [
       "None"
      ]
     },
     "metadata": {},
     "output_type": "display_data"
    },
    {
     "data": {
      "text/plain": [
       "'-------------------------------------------------------------------------------------------------------------'"
      ]
     },
     "metadata": {},
     "output_type": "display_data"
    },
    {
     "data": {
      "text/plain": [
       "'Описание:'"
      ]
     },
     "metadata": {},
     "output_type": "display_data"
    },
    {
     "data": {
      "text/html": [
       "<div>\n",
       "<style scoped>\n",
       "    .dataframe tbody tr th:only-of-type {\n",
       "        vertical-align: middle;\n",
       "    }\n",
       "\n",
       "    .dataframe tbody tr th {\n",
       "        vertical-align: top;\n",
       "    }\n",
       "\n",
       "    .dataframe thead th {\n",
       "        text-align: right;\n",
       "    }\n",
       "</style>\n",
       "<table border=\"1\" class=\"dataframe\">\n",
       "  <thead>\n",
       "    <tr style=\"text-align: right;\">\n",
       "      <th></th>\n",
       "      <th>f0</th>\n",
       "      <th>f1</th>\n",
       "      <th>f2</th>\n",
       "      <th>product</th>\n",
       "    </tr>\n",
       "  </thead>\n",
       "  <tbody>\n",
       "    <tr>\n",
       "      <th>count</th>\n",
       "      <td>100000.000000</td>\n",
       "      <td>100000.000000</td>\n",
       "      <td>100000.000000</td>\n",
       "      <td>100000.000000</td>\n",
       "    </tr>\n",
       "    <tr>\n",
       "      <th>mean</th>\n",
       "      <td>1.141296</td>\n",
       "      <td>-4.796579</td>\n",
       "      <td>2.494541</td>\n",
       "      <td>68.825000</td>\n",
       "    </tr>\n",
       "    <tr>\n",
       "      <th>std</th>\n",
       "      <td>8.965932</td>\n",
       "      <td>5.119872</td>\n",
       "      <td>1.703572</td>\n",
       "      <td>45.944423</td>\n",
       "    </tr>\n",
       "    <tr>\n",
       "      <th>min</th>\n",
       "      <td>-31.609576</td>\n",
       "      <td>-26.358598</td>\n",
       "      <td>-0.018144</td>\n",
       "      <td>0.000000</td>\n",
       "    </tr>\n",
       "    <tr>\n",
       "      <th>25%</th>\n",
       "      <td>-6.298551</td>\n",
       "      <td>-8.267985</td>\n",
       "      <td>1.000021</td>\n",
       "      <td>26.953261</td>\n",
       "    </tr>\n",
       "    <tr>\n",
       "      <th>50%</th>\n",
       "      <td>1.153055</td>\n",
       "      <td>-4.813172</td>\n",
       "      <td>2.011479</td>\n",
       "      <td>57.085625</td>\n",
       "    </tr>\n",
       "    <tr>\n",
       "      <th>75%</th>\n",
       "      <td>8.621015</td>\n",
       "      <td>-1.332816</td>\n",
       "      <td>3.999904</td>\n",
       "      <td>107.813044</td>\n",
       "    </tr>\n",
       "    <tr>\n",
       "      <th>max</th>\n",
       "      <td>29.421755</td>\n",
       "      <td>18.734063</td>\n",
       "      <td>5.019721</td>\n",
       "      <td>137.945408</td>\n",
       "    </tr>\n",
       "  </tbody>\n",
       "</table>\n",
       "</div>"
      ],
      "text/plain": [
       "                  f0             f1             f2        product\n",
       "count  100000.000000  100000.000000  100000.000000  100000.000000\n",
       "mean        1.141296      -4.796579       2.494541      68.825000\n",
       "std         8.965932       5.119872       1.703572      45.944423\n",
       "min       -31.609576     -26.358598      -0.018144       0.000000\n",
       "25%        -6.298551      -8.267985       1.000021      26.953261\n",
       "50%         1.153055      -4.813172       2.011479      57.085625\n",
       "75%         8.621015      -1.332816       3.999904     107.813044\n",
       "max        29.421755      18.734063       5.019721     137.945408"
      ]
     },
     "metadata": {},
     "output_type": "display_data"
    },
    {
     "data": {
      "text/plain": [
       "'-------------------------------------------------------------------------------------------------------------'"
      ]
     },
     "metadata": {},
     "output_type": "display_data"
    },
    {
     "data": {
      "text/plain": [
       "'Три случайные строки:'"
      ]
     },
     "metadata": {},
     "output_type": "display_data"
    },
    {
     "data": {
      "text/html": [
       "<div>\n",
       "<style scoped>\n",
       "    .dataframe tbody tr th:only-of-type {\n",
       "        vertical-align: middle;\n",
       "    }\n",
       "\n",
       "    .dataframe tbody tr th {\n",
       "        vertical-align: top;\n",
       "    }\n",
       "\n",
       "    .dataframe thead th {\n",
       "        text-align: right;\n",
       "    }\n",
       "</style>\n",
       "<table border=\"1\" class=\"dataframe\">\n",
       "  <thead>\n",
       "    <tr style=\"text-align: right;\">\n",
       "      <th></th>\n",
       "      <th>id</th>\n",
       "      <th>f0</th>\n",
       "      <th>f1</th>\n",
       "      <th>f2</th>\n",
       "      <th>product</th>\n",
       "    </tr>\n",
       "  </thead>\n",
       "  <tbody>\n",
       "    <tr>\n",
       "      <th>97425</th>\n",
       "      <td>jz4JI</td>\n",
       "      <td>9.115242</td>\n",
       "      <td>1.992474</td>\n",
       "      <td>3.998383</td>\n",
       "      <td>107.813044</td>\n",
       "    </tr>\n",
       "    <tr>\n",
       "      <th>27301</th>\n",
       "      <td>KBbMs</td>\n",
       "      <td>10.381962</td>\n",
       "      <td>-1.616830</td>\n",
       "      <td>2.006880</td>\n",
       "      <td>53.906522</td>\n",
       "    </tr>\n",
       "    <tr>\n",
       "      <th>60996</th>\n",
       "      <td>fRsZk</td>\n",
       "      <td>-7.804705</td>\n",
       "      <td>-15.242453</td>\n",
       "      <td>4.993350</td>\n",
       "      <td>137.945408</td>\n",
       "    </tr>\n",
       "  </tbody>\n",
       "</table>\n",
       "</div>"
      ],
      "text/plain": [
       "          id         f0         f1        f2     product\n",
       "97425  jz4JI   9.115242   1.992474  3.998383  107.813044\n",
       "27301  KBbMs  10.381962  -1.616830  2.006880   53.906522\n",
       "60996  fRsZk  -7.804705 -15.242453  4.993350  137.945408"
      ]
     },
     "metadata": {},
     "output_type": "display_data"
    },
    {
     "data": {
      "text/plain": [
       "'-------------------------------------------------------------------------------------------------------------'"
      ]
     },
     "metadata": {},
     "output_type": "display_data"
    },
    {
     "data": {
      "text/plain": [
       "'Количество дубликатов:'"
      ]
     },
     "metadata": {},
     "output_type": "display_data"
    },
    {
     "data": {
      "text/plain": [
       "0"
      ]
     },
     "metadata": {},
     "output_type": "display_data"
    }
   ],
   "source": [
    "information(region_two)"
   ]
  },
  {
   "cell_type": "markdown",
   "metadata": {},
   "source": [
    "### Третье месторождение:"
   ]
  },
  {
   "cell_type": "code",
   "execution_count": 21,
   "metadata": {},
   "outputs": [
    {
     "data": {
      "text/plain": [
       "'Первые пять строк:'"
      ]
     },
     "metadata": {},
     "output_type": "display_data"
    },
    {
     "data": {
      "text/html": [
       "<div>\n",
       "<style scoped>\n",
       "    .dataframe tbody tr th:only-of-type {\n",
       "        vertical-align: middle;\n",
       "    }\n",
       "\n",
       "    .dataframe tbody tr th {\n",
       "        vertical-align: top;\n",
       "    }\n",
       "\n",
       "    .dataframe thead th {\n",
       "        text-align: right;\n",
       "    }\n",
       "</style>\n",
       "<table border=\"1\" class=\"dataframe\">\n",
       "  <thead>\n",
       "    <tr style=\"text-align: right;\">\n",
       "      <th></th>\n",
       "      <th>id</th>\n",
       "      <th>f0</th>\n",
       "      <th>f1</th>\n",
       "      <th>f2</th>\n",
       "      <th>product</th>\n",
       "    </tr>\n",
       "  </thead>\n",
       "  <tbody>\n",
       "    <tr>\n",
       "      <th>0</th>\n",
       "      <td>fwXo0</td>\n",
       "      <td>-1.146987</td>\n",
       "      <td>0.963328</td>\n",
       "      <td>-0.828965</td>\n",
       "      <td>27.758673</td>\n",
       "    </tr>\n",
       "    <tr>\n",
       "      <th>1</th>\n",
       "      <td>WJtFt</td>\n",
       "      <td>0.262778</td>\n",
       "      <td>0.269839</td>\n",
       "      <td>-2.530187</td>\n",
       "      <td>56.069697</td>\n",
       "    </tr>\n",
       "    <tr>\n",
       "      <th>2</th>\n",
       "      <td>ovLUW</td>\n",
       "      <td>0.194587</td>\n",
       "      <td>0.289035</td>\n",
       "      <td>-5.586433</td>\n",
       "      <td>62.871910</td>\n",
       "    </tr>\n",
       "    <tr>\n",
       "      <th>3</th>\n",
       "      <td>q6cA6</td>\n",
       "      <td>2.236060</td>\n",
       "      <td>-0.553760</td>\n",
       "      <td>0.930038</td>\n",
       "      <td>114.572842</td>\n",
       "    </tr>\n",
       "    <tr>\n",
       "      <th>4</th>\n",
       "      <td>WPMUX</td>\n",
       "      <td>-0.515993</td>\n",
       "      <td>1.716266</td>\n",
       "      <td>5.899011</td>\n",
       "      <td>149.600746</td>\n",
       "    </tr>\n",
       "  </tbody>\n",
       "</table>\n",
       "</div>"
      ],
      "text/plain": [
       "      id        f0        f1        f2     product\n",
       "0  fwXo0 -1.146987  0.963328 -0.828965   27.758673\n",
       "1  WJtFt  0.262778  0.269839 -2.530187   56.069697\n",
       "2  ovLUW  0.194587  0.289035 -5.586433   62.871910\n",
       "3  q6cA6  2.236060 -0.553760  0.930038  114.572842\n",
       "4  WPMUX -0.515993  1.716266  5.899011  149.600746"
      ]
     },
     "metadata": {},
     "output_type": "display_data"
    },
    {
     "data": {
      "text/plain": [
       "'-------------------------------------------------------------------------------------------------------------'"
      ]
     },
     "metadata": {},
     "output_type": "display_data"
    },
    {
     "data": {
      "text/plain": [
       "'Общая информация:'"
      ]
     },
     "metadata": {},
     "output_type": "display_data"
    },
    {
     "name": "stdout",
     "output_type": "stream",
     "text": [
      "<class 'pandas.core.frame.DataFrame'>\n",
      "RangeIndex: 100000 entries, 0 to 99999\n",
      "Data columns (total 5 columns):\n",
      " #   Column   Non-Null Count   Dtype  \n",
      "---  ------   --------------   -----  \n",
      " 0   id       100000 non-null  object \n",
      " 1   f0       100000 non-null  float64\n",
      " 2   f1       100000 non-null  float64\n",
      " 3   f2       100000 non-null  float64\n",
      " 4   product  100000 non-null  float64\n",
      "dtypes: float64(4), object(1)\n",
      "memory usage: 3.8+ MB\n"
     ]
    },
    {
     "data": {
      "text/plain": [
       "None"
      ]
     },
     "metadata": {},
     "output_type": "display_data"
    },
    {
     "data": {
      "text/plain": [
       "'-------------------------------------------------------------------------------------------------------------'"
      ]
     },
     "metadata": {},
     "output_type": "display_data"
    },
    {
     "data": {
      "text/plain": [
       "'Описание:'"
      ]
     },
     "metadata": {},
     "output_type": "display_data"
    },
    {
     "data": {
      "text/html": [
       "<div>\n",
       "<style scoped>\n",
       "    .dataframe tbody tr th:only-of-type {\n",
       "        vertical-align: middle;\n",
       "    }\n",
       "\n",
       "    .dataframe tbody tr th {\n",
       "        vertical-align: top;\n",
       "    }\n",
       "\n",
       "    .dataframe thead th {\n",
       "        text-align: right;\n",
       "    }\n",
       "</style>\n",
       "<table border=\"1\" class=\"dataframe\">\n",
       "  <thead>\n",
       "    <tr style=\"text-align: right;\">\n",
       "      <th></th>\n",
       "      <th>f0</th>\n",
       "      <th>f1</th>\n",
       "      <th>f2</th>\n",
       "      <th>product</th>\n",
       "    </tr>\n",
       "  </thead>\n",
       "  <tbody>\n",
       "    <tr>\n",
       "      <th>count</th>\n",
       "      <td>100000.000000</td>\n",
       "      <td>100000.000000</td>\n",
       "      <td>100000.000000</td>\n",
       "      <td>100000.000000</td>\n",
       "    </tr>\n",
       "    <tr>\n",
       "      <th>mean</th>\n",
       "      <td>0.002023</td>\n",
       "      <td>-0.002081</td>\n",
       "      <td>2.495128</td>\n",
       "      <td>95.000000</td>\n",
       "    </tr>\n",
       "    <tr>\n",
       "      <th>std</th>\n",
       "      <td>1.732045</td>\n",
       "      <td>1.730417</td>\n",
       "      <td>3.473445</td>\n",
       "      <td>44.749921</td>\n",
       "    </tr>\n",
       "    <tr>\n",
       "      <th>min</th>\n",
       "      <td>-8.760004</td>\n",
       "      <td>-7.084020</td>\n",
       "      <td>-11.970335</td>\n",
       "      <td>0.000000</td>\n",
       "    </tr>\n",
       "    <tr>\n",
       "      <th>25%</th>\n",
       "      <td>-1.162288</td>\n",
       "      <td>-1.174820</td>\n",
       "      <td>0.130359</td>\n",
       "      <td>59.450441</td>\n",
       "    </tr>\n",
       "    <tr>\n",
       "      <th>50%</th>\n",
       "      <td>0.009424</td>\n",
       "      <td>-0.009482</td>\n",
       "      <td>2.484236</td>\n",
       "      <td>94.925613</td>\n",
       "    </tr>\n",
       "    <tr>\n",
       "      <th>75%</th>\n",
       "      <td>1.158535</td>\n",
       "      <td>1.163678</td>\n",
       "      <td>4.858794</td>\n",
       "      <td>130.595027</td>\n",
       "    </tr>\n",
       "    <tr>\n",
       "      <th>max</th>\n",
       "      <td>7.238262</td>\n",
       "      <td>7.844801</td>\n",
       "      <td>16.739402</td>\n",
       "      <td>190.029838</td>\n",
       "    </tr>\n",
       "  </tbody>\n",
       "</table>\n",
       "</div>"
      ],
      "text/plain": [
       "                  f0             f1             f2        product\n",
       "count  100000.000000  100000.000000  100000.000000  100000.000000\n",
       "mean        0.002023      -0.002081       2.495128      95.000000\n",
       "std         1.732045       1.730417       3.473445      44.749921\n",
       "min        -8.760004      -7.084020     -11.970335       0.000000\n",
       "25%        -1.162288      -1.174820       0.130359      59.450441\n",
       "50%         0.009424      -0.009482       2.484236      94.925613\n",
       "75%         1.158535       1.163678       4.858794     130.595027\n",
       "max         7.238262       7.844801      16.739402     190.029838"
      ]
     },
     "metadata": {},
     "output_type": "display_data"
    },
    {
     "data": {
      "text/plain": [
       "'-------------------------------------------------------------------------------------------------------------'"
      ]
     },
     "metadata": {},
     "output_type": "display_data"
    },
    {
     "data": {
      "text/plain": [
       "'Три случайные строки:'"
      ]
     },
     "metadata": {},
     "output_type": "display_data"
    },
    {
     "data": {
      "text/html": [
       "<div>\n",
       "<style scoped>\n",
       "    .dataframe tbody tr th:only-of-type {\n",
       "        vertical-align: middle;\n",
       "    }\n",
       "\n",
       "    .dataframe tbody tr th {\n",
       "        vertical-align: top;\n",
       "    }\n",
       "\n",
       "    .dataframe thead th {\n",
       "        text-align: right;\n",
       "    }\n",
       "</style>\n",
       "<table border=\"1\" class=\"dataframe\">\n",
       "  <thead>\n",
       "    <tr style=\"text-align: right;\">\n",
       "      <th></th>\n",
       "      <th>id</th>\n",
       "      <th>f0</th>\n",
       "      <th>f1</th>\n",
       "      <th>f2</th>\n",
       "      <th>product</th>\n",
       "    </tr>\n",
       "  </thead>\n",
       "  <tbody>\n",
       "    <tr>\n",
       "      <th>33978</th>\n",
       "      <td>g5JK7</td>\n",
       "      <td>-1.385587</td>\n",
       "      <td>-3.632214</td>\n",
       "      <td>1.065781</td>\n",
       "      <td>106.713904</td>\n",
       "    </tr>\n",
       "    <tr>\n",
       "      <th>16996</th>\n",
       "      <td>L6TAw</td>\n",
       "      <td>0.914602</td>\n",
       "      <td>2.507637</td>\n",
       "      <td>8.482196</td>\n",
       "      <td>154.659048</td>\n",
       "    </tr>\n",
       "    <tr>\n",
       "      <th>54790</th>\n",
       "      <td>Ynelq</td>\n",
       "      <td>-0.496467</td>\n",
       "      <td>0.085158</td>\n",
       "      <td>4.769798</td>\n",
       "      <td>27.772803</td>\n",
       "    </tr>\n",
       "  </tbody>\n",
       "</table>\n",
       "</div>"
      ],
      "text/plain": [
       "          id        f0        f1        f2     product\n",
       "33978  g5JK7 -1.385587 -3.632214  1.065781  106.713904\n",
       "16996  L6TAw  0.914602  2.507637  8.482196  154.659048\n",
       "54790  Ynelq -0.496467  0.085158  4.769798   27.772803"
      ]
     },
     "metadata": {},
     "output_type": "display_data"
    },
    {
     "data": {
      "text/plain": [
       "'-------------------------------------------------------------------------------------------------------------'"
      ]
     },
     "metadata": {},
     "output_type": "display_data"
    },
    {
     "data": {
      "text/plain": [
       "'Количество дубликатов:'"
      ]
     },
     "metadata": {},
     "output_type": "display_data"
    },
    {
     "data": {
      "text/plain": [
       "0"
      ]
     },
     "metadata": {},
     "output_type": "display_data"
    }
   ],
   "source": [
    "information(region_three)"
   ]
  },
  {
   "cell_type": "markdown",
   "metadata": {},
   "source": [
    "### Мини-вывод\n",
    "\n",
    "Данные выведены на экран.Данные в норме.Дубликатов нет.Перейдем к обучению и проверке модели."
   ]
  },
  {
   "cell_type": "markdown",
   "metadata": {},
   "source": [
    "## Обучение и проверка модели"
   ]
  },
  {
   "cell_type": "code",
   "execution_count": 32,
   "metadata": {},
   "outputs": [],
   "source": [
    "train_one, valid_one = train_test_split(region_one, test_size=0.25, random_state=12345)\n",
    "train_two, valid_two = train_test_split(region_two, test_size=0.25, random_state=12345)\n",
    "train_three, valid_three = train_test_split(region_three, test_size=0.25, random_state=12345)"
   ]
  },
  {
   "cell_type": "code",
   "execution_count": 50,
   "metadata": {},
   "outputs": [],
   "source": [
    "features_train_one = train_one.drop(['id', 'product'], axis=1)\n",
    "target_train_one = train_one['product']\n",
    "features_valid_one = valid_one.drop(['id', 'product'], axis=1)\n",
    "target_valid_one = valid_one['product']\n",
    "\n",
    "features_train_two = train_two.drop(['id', 'product'], axis=1)\n",
    "target_train_two = train_two['product']\n",
    "features_valid_two = valid_two.drop(['id', 'product'], axis=1)\n",
    "target_valid_two = valid_two['product']\n",
    "\n",
    "features_train_three = train_three.drop(['id', 'product'], axis=1)\n",
    "target_train_three = train_three['product']\n",
    "features_valid_three = valid_three.drop(['id', 'product'], axis=1)\n",
    "target_valid_three = valid_three['product']"
   ]
  },
  {
   "cell_type": "code",
   "execution_count": 51,
   "metadata": {},
   "outputs": [
    {
     "data": {
      "text/plain": [
       "'Валидационная выборка первого датафрейма: (25000, 3), (25000,)'"
      ]
     },
     "metadata": {},
     "output_type": "display_data"
    },
    {
     "data": {
      "text/plain": [
       "'Валидационная выборка второго датафрейма: (25000, 3), (25000,)'"
      ]
     },
     "metadata": {},
     "output_type": "display_data"
    },
    {
     "data": {
      "text/plain": [
       "'Валидационная выборка третьего датафрейма: (25000, 3), (25000,)'"
      ]
     },
     "metadata": {},
     "output_type": "display_data"
    },
    {
     "data": {
      "text/plain": [
       "'Обучающая выборка первого датафрейма: (75000, 3), (75000,)'"
      ]
     },
     "metadata": {},
     "output_type": "display_data"
    },
    {
     "data": {
      "text/plain": [
       "'Обучающая выборка второго датафрейма: (75000, 3), (75000,)'"
      ]
     },
     "metadata": {},
     "output_type": "display_data"
    },
    {
     "data": {
      "text/plain": [
       "'Обучающая выборка третьего датафрейма: (75000, 3), (75000,)'"
      ]
     },
     "metadata": {},
     "output_type": "display_data"
    }
   ],
   "source": [
    "display(f'Валидационная выборка первого датафрейма: {features_valid_one.shape}, {target_valid_one.shape}')\n",
    "display(f'Валидационная выборка второго датафрейма: {features_valid_two.shape}, {target_valid_two.shape}')\n",
    "display(f'Валидационная выборка третьего датафрейма: {features_valid_three.shape}, {target_valid_three.shape}')\n",
    "display(f'Обучающая выборка первого датафрейма: {features_train_one.shape}, {target_train_one.shape}')\n",
    "display(f'Обучающая выборка второго датафрейма: {features_train_two.shape}, {target_train_two.shape}')\n",
    "display(f'Обучающая выборка третьего датафрейма: {features_train_three.shape}, {target_train_three.shape}')"
   ]
  },
  {
   "cell_type": "markdown",
   "metadata": {},
   "source": [
    "### Первое месторождение:"
   ]
  },
  {
   "cell_type": "code",
   "execution_count": 71,
   "metadata": {},
   "outputs": [
    {
     "data": {
      "text/plain": [
       "'RMSE: 37.5794217150813'"
      ]
     },
     "metadata": {},
     "output_type": "display_data"
    },
    {
     "data": {
      "text/plain": [
       "'Cредний запас предсказанного сырья: 92.59256778438035'"
      ]
     },
     "metadata": {},
     "output_type": "display_data"
    },
    {
     "data": {
      "text/plain": [
       "'Средний фактический запас сырья: 92.07859674082927'"
      ]
     },
     "metadata": {},
     "output_type": "display_data"
    }
   ],
   "source": [
    "model = LinearRegression()\n",
    "model.fit(features_train_one, target_train_one)\n",
    "predicted_valid_one = model.predict(features_valid_one)\n",
    "predicted_valid_one_mean = predicted_valid_one.mean()\n",
    "target_valid_one_mean = target_valid_one.mean()\n",
    "mse_one = mean_squared_error(target_valid_one, predicted_valid_one)\n",
    "display(f'RMSE: {mse_one ** 0.5}')\n",
    "display(f'Cредний запас предсказанного сырья: {predicted_valid_one_mean}')\n",
    "display(f'Средний фактический запас сырья: {target_valid_one_mean}')"
   ]
  },
  {
   "cell_type": "markdown",
   "metadata": {},
   "source": [
    "### Второе месторождение:"
   ]
  },
  {
   "cell_type": "code",
   "execution_count": 70,
   "metadata": {},
   "outputs": [
    {
     "data": {
      "text/plain": [
       "'RMSE : 0.893099286775617'"
      ]
     },
     "metadata": {},
     "output_type": "display_data"
    },
    {
     "data": {
      "text/plain": [
       "'Cредний запас предсказанного сырья: 68.728546895446'"
      ]
     },
     "metadata": {},
     "output_type": "display_data"
    },
    {
     "data": {
      "text/plain": [
       "'Средний фактический запас сырья: 68.72313602435997'"
      ]
     },
     "metadata": {},
     "output_type": "display_data"
    }
   ],
   "source": [
    "model = LinearRegression()\n",
    "model.fit(features_train_two, target_train_two)\n",
    "predicted_valid_two = model.predict(features_valid_two)\n",
    "predicted_valid_two_mean = predicted_valid_two.mean()\n",
    "target_valid_two_mean = target_valid_two.mean()\n",
    "mse_two = mean_squared_error(target_valid_two, predicted_valid_two)\n",
    "display(f'RMSE : {mse_two ** 0.5}')\n",
    "display(f'Cредний запас предсказанного сырья: {predicted_valid_two_mean}')\n",
    "display(f'Средний фактический запас сырья: {target_valid_two_mean}')"
   ]
  },
  {
   "cell_type": "markdown",
   "metadata": {},
   "source": [
    "### Третье месторождение:"
   ]
  },
  {
   "cell_type": "code",
   "execution_count": 69,
   "metadata": {},
   "outputs": [
    {
     "data": {
      "text/plain": [
       "'RMSE: 0.893099286775617'"
      ]
     },
     "metadata": {},
     "output_type": "display_data"
    },
    {
     "data": {
      "text/plain": [
       "'Cредний запас предсказанного сырья: 94.96504596800489'"
      ]
     },
     "metadata": {},
     "output_type": "display_data"
    },
    {
     "data": {
      "text/plain": [
       "'Средний фактический запас сырья: 94.88423280885438'"
      ]
     },
     "metadata": {},
     "output_type": "display_data"
    }
   ],
   "source": [
    "model = LinearRegression()\n",
    "model.fit(features_train_three, target_train_three)\n",
    "predicted_valid_three = model.predict(features_valid_three)\n",
    "predicted_valid_three_mean = predicted_valid_three.mean()\n",
    "target_valid_three_mean = target_valid_three.mean()\n",
    "mse_three = mean_squared_error(target_valid_three, predicted_valid_three)\n",
    "display(f'RMSE: {mse_three ** 0.5}')\n",
    "display(f'Cредний запас предсказанного сырья: {predicted_valid_three_mean}')\n",
    "display(f'Средний фактический запас сырья: {target_valid_three_mean}')"
   ]
  },
  {
   "cell_type": "markdown",
   "metadata": {},
   "source": [
    "### Мини-вывод:\n",
    "\n",
    "Данные выведены на экран.Сначала мы разделили данные в нужной нам пропорции.Позже узнали размер выборок.А затем уже прошлись по трем датафреймам и узнали три значения RMSE и средние запасы предсказанного и фактичего сырья.Значение RMSE у первого месторождения огромное,модель показывает себя не очень.Значения RMSE у второго и третьего месторождения одинаковы и очень малы, модели показывают себя хорошо.Средний запас предсказанного и фактического сырья у третьего месторожения наилучший.Перейдем к расчету прибыли."
   ]
  },
  {
   "cell_type": "markdown",
   "metadata": {},
   "source": [
    "## Подготовка к расчёту прибыли"
   ]
  },
  {
   "cell_type": "code",
   "execution_count": 73,
   "metadata": {},
   "outputs": [
    {
     "data": {
      "text/plain": [
       "'Бюджет для разработки одной скважины: 50000000.0'"
      ]
     },
     "metadata": {},
     "output_type": "display_data"
    },
    {
     "data": {
      "text/plain": [
       "'Доход с каждой единицы продукта: 450000'"
      ]
     },
     "metadata": {},
     "output_type": "display_data"
    },
    {
     "data": {
      "text/plain": [
       "'Cколько нужно тысяч баррелей для того, чтобы окупить затраты: 111.11111111111111'"
      ]
     },
     "metadata": {},
     "output_type": "display_data"
    },
    {
     "data": {
      "text/plain": [
       "'Объем скважины для безубыточной разработки в 1 месторождении: 18.6111111111111'"
      ]
     },
     "metadata": {},
     "output_type": "display_data"
    },
    {
     "data": {
      "text/plain": [
       "'Объем скважины для безубыточной разработки в 2 месторождении: 42.2861111111111'"
      ]
     },
     "metadata": {},
     "output_type": "display_data"
    },
    {
     "data": {
      "text/plain": [
       "'Объем скважины для безубыточной разработки в 3 месторождении: 16.11111111111107'"
      ]
     },
     "metadata": {},
     "output_type": "display_data"
    }
   ],
   "source": [
    "Budget = 10000000000 / 200\n",
    "Income = 450000\n",
    "Payback = budget / income\n",
    "display(f'Бюджет для разработки одной скважины: {Budget}')\n",
    "display(f'Доход с каждой единицы продукта: {Income}')\n",
    "display(f'Cколько нужно тысяч баррелей для того, чтобы окупить затраты: {Payback}')\n",
    "display(f'Объем скважины для безубыточной разработки в 1 месторождении: {Payback - region_one[\"product\"].mean()}')\n",
    "display(f'Объем скважины для безубыточной разработки в 2 месторождении: {Payback - region_two[\"product\"].mean()}')\n",
    "display(f'Объем скважины для безубыточной разработки в 3 месторождении: {Payback - region_three[\"product\"].mean()}')"
   ]
  },
  {
   "cell_type": "markdown",
   "metadata": {},
   "source": [
    "### Мини-вывод:\n",
    "Разработка новых скважин во 2 месторождении является наиболее убыточной, как по мне,т.к для нее требуется наибольший объем. Объем скважин для безубыточной разработки в 1 и 3 месторождениях примерно равны. Наименьший объем требуется в 3 месторождении. Это связано с тем, что среднее значение в 3 месторождении наибольшее."
   ]
  },
  {
   "cell_type": "markdown",
   "metadata": {},
   "source": [
    "## Расчёт прибыли и рисков "
   ]
  },
  {
   "cell_type": "code",
   "execution_count": 94,
   "metadata": {},
   "outputs": [],
   "source": [
    "def profit_calculation(target, predictions, count):\n",
    "    profit = 0\n",
    "    predictions_sorted = predictions.sort_values(ascending=False).head(500)\n",
    "    target_sorted = target[predictions_sorted.index][:count]\n",
    "    for barrels in target_sorted:\n",
    "        profit += (barrels - payback) * income\n",
    "    return profit / 1000000"
   ]
  },
  {
   "cell_type": "code",
   "execution_count": 96,
   "metadata": {},
   "outputs": [
    {
     "data": {
      "text/plain": [
       "'Прибыльность лучших 200 точек в первом месторождении: 3321 миллионов'"
      ]
     },
     "metadata": {},
     "output_type": "display_data"
    },
    {
     "data": {
      "text/plain": [
       "'Прибыльность лучших 200 точек во втором месторождении: 2415 миллионов'"
      ]
     },
     "metadata": {},
     "output_type": "display_data"
    },
    {
     "data": {
      "text/plain": [
       "'Прибыльность лучших 200 точек в третьем месторождении: 2710 миллионов'"
      ]
     },
     "metadata": {},
     "output_type": "display_data"
    }
   ],
   "source": [
    "valid_one['product_predicted'] = predicted_valid_one\n",
    "valid_two['product_predicted'] = predicted_valid_two\n",
    "valid_three['product_predicted'] = predicted_valid_three\n",
    "display(f'Прибыльность лучших 200 точек в первом месторождении: {round(profit_calculation(valid_one[\"product\"], valid_one[\"product_predicted\"], 200))} миллионов')\n",
    "display(f'Прибыльность лучших 200 точек во втором месторождении: {round(profit_calculation(valid_two[\"product\"], valid_two[\"product_predicted\"], 200))} миллионов')\n",
    "display(f'Прибыльность лучших 200 точек в третьем месторождении: {round(profit_calculation(valid_three[\"product\"], valid_three[\"product_predicted\"], 200))} миллионов')"
   ]
  },
  {
   "cell_type": "markdown",
   "metadata": {},
   "source": [
    "### Мини-вывод:\n",
    "Предположение, что разработка новых скважин во 2 месторождении является наиболее убыточной подтвердилось.Наиболее прибыльным является разработка в первом месторождении.Потенциальная прибыль на 600 млн больше,чем в третьем месторождении,и почти на миллиард больше,чем во втором месторождении."
   ]
  },
  {
   "cell_type": "code",
   "execution_count": 112,
   "metadata": {},
   "outputs": [],
   "source": [
    "def risks(target, predictions):\n",
    "    state = np.random.RandomState(12345)\n",
    "    values = []\n",
    "    for i in range(1000):\n",
    "        target_subsample = target.sample(n=500, replace=True, random_state=state)\n",
    "        preds_subsample = predictions[target_subsample.index]\n",
    "        values.append(profit_calculation(target_subsample, preds_subsample, 200))\n",
    "    values = pd.Series(values)\n",
    "    lower = values.quantile(0.025)\n",
    "    upper = values.quantile(0.975)\n",
    "    display(f'Вероятность убытков в месторождении: {stats.percentileofscore(values, 0)} %') \n",
    "    display(f'Средняя прибыль: {values.mean()} миллионов')\n",
    "    display(f'Нижняя граница доверительного значения: {lower}')\n",
    "    display(f'Верхняя граница доверительного значения: {upper}')"
   ]
  },
  {
   "cell_type": "markdown",
   "metadata": {},
   "source": [
    "### Первое месторождение:"
   ]
  },
  {
   "cell_type": "code",
   "execution_count": 113,
   "metadata": {},
   "outputs": [
    {
     "data": {
      "text/plain": [
       "'Вероятность убытков в месторождении: 6.0 %'"
      ]
     },
     "metadata": {},
     "output_type": "display_data"
    },
    {
     "data": {
      "text/plain": [
       "'Средняя прибыль: 425.9385269105921 миллионов'"
      ]
     },
     "metadata": {},
     "output_type": "display_data"
    },
    {
     "data": {
      "text/plain": [
       "'Нижняя граница доверительного значения: -102.09009483793763'"
      ]
     },
     "metadata": {},
     "output_type": "display_data"
    },
    {
     "data": {
      "text/plain": [
       "'Верхняя граница доверительного значения: 947.976353358368'"
      ]
     },
     "metadata": {},
     "output_type": "display_data"
    }
   ],
   "source": [
    "risks(valid_one['product'], valid_one['product_predicted'])"
   ]
  },
  {
   "cell_type": "markdown",
   "metadata": {},
   "source": [
    "### Второе месторождение:"
   ]
  },
  {
   "cell_type": "code",
   "execution_count": 114,
   "metadata": {},
   "outputs": [
    {
     "data": {
      "text/plain": [
       "'Вероятность убытков в месторождении: 1.0 %'"
      ]
     },
     "metadata": {},
     "output_type": "display_data"
    },
    {
     "data": {
      "text/plain": [
       "'Средняя прибыль: 515.2227734432944 миллионов'"
      ]
     },
     "metadata": {},
     "output_type": "display_data"
    },
    {
     "data": {
      "text/plain": [
       "'Нижняя граница доверительного значения: 68.87322537050716'"
      ]
     },
     "metadata": {},
     "output_type": "display_data"
    },
    {
     "data": {
      "text/plain": [
       "'Верхняя граница доверительного значения: 931.5475912570474'"
      ]
     },
     "metadata": {},
     "output_type": "display_data"
    }
   ],
   "source": [
    "risks(valid_two['product'], valid_two['product_predicted'])"
   ]
  },
  {
   "cell_type": "markdown",
   "metadata": {},
   "source": [
    "### Третье месторождение:"
   ]
  },
  {
   "cell_type": "code",
   "execution_count": 115,
   "metadata": {},
   "outputs": [
    {
     "data": {
      "text/plain": [
       "'Вероятность убытков в месторождении: 6.4 %'"
      ]
     },
     "metadata": {},
     "output_type": "display_data"
    },
    {
     "data": {
      "text/plain": [
       "'Средняя прибыль: 435.0083627827554 миллионов'"
      ]
     },
     "metadata": {},
     "output_type": "display_data"
    },
    {
     "data": {
      "text/plain": [
       "'Нижняя граница доверительного значения: -128.88054732978947'"
      ]
     },
     "metadata": {},
     "output_type": "display_data"
    },
    {
     "data": {
      "text/plain": [
       "'Верхняя граница доверительного значения: 969.7069541802659'"
      ]
     },
     "metadata": {},
     "output_type": "display_data"
    }
   ],
   "source": [
    "risks(valid_three['product'], valid_three['product_predicted'])"
   ]
  },
  {
   "cell_type": "markdown",
   "metadata": {},
   "source": [
    "# Вывод"
   ]
  },
  {
   "cell_type": "markdown",
   "metadata": {},
   "source": [
    "Судя по полученным данным, лучшим решением будет бурить скважины во втором месторождение.Именно во втором месторождение вероятность убытков наименьшая,а именно 1%.Также там наибольшая средняя прибыль среди всех трех месторождений."
   ]
  },
  {
   "cell_type": "code",
   "execution_count": null,
   "metadata": {},
   "outputs": [],
   "source": []
  }
 ],
 "metadata": {
  "ExecuteTimeLog": [
   {
    "duration": 893,
    "start_time": "2022-06-05T09:23:24.582Z"
   },
   {
    "duration": 114,
    "start_time": "2022-06-05T09:23:28.724Z"
   },
   {
    "duration": 755,
    "start_time": "2022-06-05T09:24:37.174Z"
   },
   {
    "duration": 451,
    "start_time": "2022-06-05T09:24:39.249Z"
   },
   {
    "duration": 13,
    "start_time": "2022-06-05T09:25:12.455Z"
   },
   {
    "duration": 406,
    "start_time": "2022-06-05T09:26:58.599Z"
   },
   {
    "duration": 6,
    "start_time": "2022-06-05T09:30:44.222Z"
   },
   {
    "duration": 128,
    "start_time": "2022-06-05T09:32:01.703Z"
   },
   {
    "duration": 48,
    "start_time": "2022-06-05T09:33:04.311Z"
   },
   {
    "duration": 22,
    "start_time": "2022-06-05T09:33:09.226Z"
   },
   {
    "duration": 3,
    "start_time": "2022-06-05T09:33:14.991Z"
   },
   {
    "duration": 135,
    "start_time": "2022-06-05T09:33:17.652Z"
   },
   {
    "duration": 3,
    "start_time": "2022-06-05T09:35:08.493Z"
   },
   {
    "duration": 116,
    "start_time": "2022-06-05T09:35:10.347Z"
   },
   {
    "duration": 4,
    "start_time": "2022-06-05T09:36:20.320Z"
   },
   {
    "duration": 121,
    "start_time": "2022-06-05T09:36:21.634Z"
   },
   {
    "duration": 36,
    "start_time": "2022-06-05T09:37:14.545Z"
   },
   {
    "duration": 4,
    "start_time": "2022-06-05T09:37:29.640Z"
   },
   {
    "duration": 158,
    "start_time": "2022-06-05T09:37:31.515Z"
   },
   {
    "duration": 137,
    "start_time": "2022-06-05T09:39:47.170Z"
   },
   {
    "duration": 145,
    "start_time": "2022-06-05T09:39:53.842Z"
   },
   {
    "duration": 51,
    "start_time": "2022-06-05T09:53:15.143Z"
   },
   {
    "duration": 4,
    "start_time": "2022-06-05T09:53:16.470Z"
   },
   {
    "duration": 47,
    "start_time": "2022-06-05T09:53:27.127Z"
   },
   {
    "duration": 3,
    "start_time": "2022-06-05T09:53:27.954Z"
   },
   {
    "duration": 42,
    "start_time": "2022-06-05T09:53:55.069Z"
   },
   {
    "duration": 3,
    "start_time": "2022-06-05T09:53:55.934Z"
   },
   {
    "duration": 45,
    "start_time": "2022-06-05T09:54:20.829Z"
   },
   {
    "duration": 9,
    "start_time": "2022-06-05T09:54:53.687Z"
   },
   {
    "duration": 3,
    "start_time": "2022-06-05T10:01:35.575Z"
   },
   {
    "duration": 13,
    "start_time": "2022-06-05T10:02:14.578Z"
   },
   {
    "duration": 75,
    "start_time": "2022-06-05T10:02:38.381Z"
   },
   {
    "duration": 6,
    "start_time": "2022-06-05T10:02:39.383Z"
   },
   {
    "duration": 11,
    "start_time": "2022-06-05T10:02:40.117Z"
   },
   {
    "duration": 14,
    "start_time": "2022-06-05T10:02:42.809Z"
   },
   {
    "duration": 8,
    "start_time": "2022-06-05T10:03:24.897Z"
   },
   {
    "duration": 10,
    "start_time": "2022-06-05T10:03:25.913Z"
   },
   {
    "duration": 13,
    "start_time": "2022-06-05T10:03:44.426Z"
   },
   {
    "duration": 3,
    "start_time": "2022-06-05T10:04:26.401Z"
   },
   {
    "duration": 16,
    "start_time": "2022-06-05T10:04:28.616Z"
   },
   {
    "duration": 12,
    "start_time": "2022-06-05T10:04:39.071Z"
   },
   {
    "duration": 19,
    "start_time": "2022-06-05T10:05:12.186Z"
   },
   {
    "duration": 15,
    "start_time": "2022-06-05T10:07:22.282Z"
   },
   {
    "duration": 4,
    "start_time": "2022-06-05T10:07:25.973Z"
   },
   {
    "duration": 8,
    "start_time": "2022-06-05T10:07:26.873Z"
   },
   {
    "duration": 12,
    "start_time": "2022-06-05T10:07:28.225Z"
   },
   {
    "duration": 3,
    "start_time": "2022-06-05T10:08:27.112Z"
   },
   {
    "duration": 6,
    "start_time": "2022-06-05T10:08:28.371Z"
   },
   {
    "duration": 12,
    "start_time": "2022-06-05T10:08:29.372Z"
   },
   {
    "duration": 20,
    "start_time": "2022-06-05T10:10:52.893Z"
   },
   {
    "duration": 10,
    "start_time": "2022-06-05T10:10:54.349Z"
   },
   {
    "duration": 68,
    "start_time": "2022-06-05T10:19:11.283Z"
   },
   {
    "duration": 49,
    "start_time": "2022-06-05T10:19:55.781Z"
   },
   {
    "duration": 24,
    "start_time": "2022-06-05T10:20:46.272Z"
   },
   {
    "duration": 52,
    "start_time": "2022-06-05T10:29:05.788Z"
   },
   {
    "duration": 18,
    "start_time": "2022-06-05T10:29:07.959Z"
   },
   {
    "duration": 17,
    "start_time": "2022-06-05T10:29:09.300Z"
   },
   {
    "duration": 14,
    "start_time": "2022-06-05T10:33:17.402Z"
   },
   {
    "duration": 12,
    "start_time": "2022-06-05T10:33:30.287Z"
   },
   {
    "duration": 11,
    "start_time": "2022-06-05T10:33:35.684Z"
   },
   {
    "duration": 9,
    "start_time": "2022-06-05T10:33:45.406Z"
   },
   {
    "duration": 8,
    "start_time": "2022-06-05T10:33:50.955Z"
   },
   {
    "duration": 9,
    "start_time": "2022-06-05T10:33:55.667Z"
   },
   {
    "duration": 10,
    "start_time": "2022-06-05T11:17:19.480Z"
   },
   {
    "duration": 3,
    "start_time": "2022-06-05T11:18:40.757Z"
   },
   {
    "duration": 17,
    "start_time": "2022-06-05T11:18:41.903Z"
   },
   {
    "duration": 14,
    "start_time": "2022-06-05T11:19:01.354Z"
   },
   {
    "duration": 15,
    "start_time": "2022-06-05T11:19:10.248Z"
   },
   {
    "duration": 111,
    "start_time": "2022-06-05T11:27:53.826Z"
   },
   {
    "duration": 82,
    "start_time": "2022-06-05T11:28:53.082Z"
   },
   {
    "duration": 122,
    "start_time": "2022-06-05T11:29:26.110Z"
   },
   {
    "duration": 35,
    "start_time": "2022-06-05T12:50:11.209Z"
   },
   {
    "duration": 12,
    "start_time": "2022-06-05T12:50:28.200Z"
   },
   {
    "duration": 24,
    "start_time": "2022-06-05T13:03:52.414Z"
   },
   {
    "duration": 3,
    "start_time": "2022-06-05T13:03:59.070Z"
   },
   {
    "duration": 5,
    "start_time": "2022-06-05T13:04:13.827Z"
   },
   {
    "duration": 14,
    "start_time": "2022-06-05T13:06:59.407Z"
   },
   {
    "duration": 54,
    "start_time": "2022-06-05T13:09:16.708Z"
   },
   {
    "duration": 43,
    "start_time": "2022-06-05T13:09:27.894Z"
   },
   {
    "duration": 28,
    "start_time": "2022-06-05T13:09:41.593Z"
   },
   {
    "duration": 3,
    "start_time": "2022-06-05T13:09:46.873Z"
   },
   {
    "duration": 32,
    "start_time": "2022-06-05T13:09:47.947Z"
   },
   {
    "duration": 53,
    "start_time": "2022-06-05T13:10:38.821Z"
   },
   {
    "duration": 26,
    "start_time": "2022-06-05T13:10:47.042Z"
   },
   {
    "duration": 25,
    "start_time": "2022-06-05T13:13:33.557Z"
   },
   {
    "duration": 5,
    "start_time": "2022-06-05T13:13:58.248Z"
   },
   {
    "duration": 5,
    "start_time": "2022-06-05T13:14:09.543Z"
   },
   {
    "duration": 10,
    "start_time": "2022-06-05T13:14:16.854Z"
   },
   {
    "duration": 30,
    "start_time": "2022-06-05T13:15:33.010Z"
   },
   {
    "duration": 5,
    "start_time": "2022-06-05T13:15:53.393Z"
   },
   {
    "duration": 5,
    "start_time": "2022-06-05T13:17:08.370Z"
   },
   {
    "duration": 9,
    "start_time": "2022-06-05T13:17:10.116Z"
   },
   {
    "duration": 8,
    "start_time": "2022-06-05T13:17:43.805Z"
   },
   {
    "duration": 4,
    "start_time": "2022-06-05T13:17:58.413Z"
   },
   {
    "duration": 8,
    "start_time": "2022-06-05T13:17:59.179Z"
   },
   {
    "duration": 33,
    "start_time": "2022-06-05T13:19:30.522Z"
   },
   {
    "duration": 6,
    "start_time": "2022-06-05T13:47:33.491Z"
   },
   {
    "duration": 14,
    "start_time": "2022-06-05T13:48:39.472Z"
   },
   {
    "duration": 7,
    "start_time": "2022-06-05T13:49:20.075Z"
   },
   {
    "duration": 16,
    "start_time": "2022-06-05T13:49:22.574Z"
   },
   {
    "duration": 7,
    "start_time": "2022-06-05T13:50:36.086Z"
   },
   {
    "duration": 22,
    "start_time": "2022-06-05T13:50:37.334Z"
   },
   {
    "duration": 7,
    "start_time": "2022-06-05T13:51:20.576Z"
   },
   {
    "duration": 17,
    "start_time": "2022-06-05T13:51:22.561Z"
   },
   {
    "duration": 7,
    "start_time": "2022-06-05T13:52:28.072Z"
   },
   {
    "duration": 1453,
    "start_time": "2022-06-05T13:52:30.120Z"
   },
   {
    "duration": 9,
    "start_time": "2022-06-05T13:52:55.717Z"
   },
   {
    "duration": 2146,
    "start_time": "2022-06-05T13:52:56.874Z"
   },
   {
    "duration": 7,
    "start_time": "2022-06-05T13:53:23.078Z"
   },
   {
    "duration": 8,
    "start_time": "2022-06-05T13:53:45.472Z"
   },
   {
    "duration": 1498,
    "start_time": "2022-06-05T13:53:47.501Z"
   },
   {
    "duration": 11,
    "start_time": "2022-06-05T13:54:22.355Z"
   },
   {
    "duration": 1503,
    "start_time": "2022-06-05T13:54:24.196Z"
   },
   {
    "duration": 1596,
    "start_time": "2022-06-05T13:56:17.602Z"
   },
   {
    "duration": 1494,
    "start_time": "2022-06-05T13:56:35.015Z"
   }
  ],
  "kernelspec": {
   "display_name": "Python 3 (ipykernel)",
   "language": "python",
   "name": "python3"
  },
  "language_info": {
   "codemirror_mode": {
    "name": "ipython",
    "version": 3
   },
   "file_extension": ".py",
   "mimetype": "text/x-python",
   "name": "python",
   "nbconvert_exporter": "python",
   "pygments_lexer": "ipython3",
   "version": "3.11.1"
  },
  "toc": {
   "base_numbering": 1,
   "nav_menu": {},
   "number_sections": true,
   "sideBar": true,
   "skip_h1_title": true,
   "title_cell": "Table of Contents",
   "title_sidebar": "Contents",
   "toc_cell": false,
   "toc_position": {},
   "toc_section_display": true,
   "toc_window_display": false
  }
 },
 "nbformat": 4,
 "nbformat_minor": 2
}
